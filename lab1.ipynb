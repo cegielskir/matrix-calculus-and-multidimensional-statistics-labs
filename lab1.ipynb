{
 "cells": [
  {
   "cell_type": "code",
   "execution_count": 46,
   "metadata": {},
   "outputs": [
    {
     "name": "stdout",
     "output_type": "stream",
     "text": [
      "A =\n",
      "\n",
      "   0.499562   0.376613   0.469292\n",
      "   0.141243   0.720396   0.083988\n",
      "   0.551046   0.465123   0.062417\n",
      "\n"
     ]
    }
   ],
   "source": [
    "A = rand(3,3)\n"
   ]
  },
  {
   "cell_type": "code",
   "execution_count": 9,
   "metadata": {},
   "outputs": [
    {
     "name": "stdout",
     "output_type": "stream",
     "text": [
      "B =\n",
      "\n",
      "   0.16269   0.72281   0.30140\n",
      "   0.57274   0.21448   0.73391\n",
      "   0.30210   0.24559   0.51071\n",
      "\n"
     ]
    }
   ],
   "source": [
    "B = rand(3,3)"
   ]
  },
  {
   "cell_type": "code",
   "execution_count": 10,
   "metadata": {},
   "outputs": [
    {
     "name": "stdout",
     "output_type": "stream",
     "text": [
      "ans =\n",
      "\n",
      "   0.74222   0.80736   1.10173\n",
      "   0.74827   0.68147   1.08075\n",
      "   0.25125   0.37628   0.43221\n",
      "\n"
     ]
    }
   ],
   "source": [
    "A*B"
   ]
  },
  {
   "cell_type": "code",
   "execution_count": 11,
   "metadata": {},
   "outputs": [],
   "source": [
    "function [C] = MM(A,B)\n",
    "% Przykladowe uzycie: A=rand(100,100); B=rand(100,100); C=MM(A,B);\n",
    "% tic; C=MM(A,B); toc %zmierz czas i wypisz czas\n",
    "sza = size(A);\n",
    "szb = size(B);\n",
    "if(sza(2)!=szb(1))\n",
    "disp('Nie odpowiednie rozmiary macierzy');\n",
    "return\n",
    "endif\n",
    "C(1:sza(2),1:szb(1))=0;\n",
    "for i=1:sza(2)\n",
    "    for j=1:szb(1)\n",
    "        for k=1:sza(1)\n",
    "        C(i,j)+=A(i,k)*B(k,j);\n",
    "        endfor\n",
    "    endfor\n",
    "endfor\n",
    "endfunction"
   ]
  },
  {
   "cell_type": "code",
   "execution_count": 12,
   "metadata": {},
   "outputs": [
    {
     "name": "stdout",
     "output_type": "stream",
     "text": [
      "Elapsed time is 0.0419369 seconds.\n"
     ]
    }
   ],
   "source": [
    "tic;\n",
    "C = MM(A, B);\n",
    "toc"
   ]
  },
  {
   "cell_type": "code",
   "execution_count": 13,
   "metadata": {},
   "outputs": [
    {
     "name": "stdout",
     "output_type": "stream",
     "text": [
      "A =\n",
      "\n",
      "   0.1935082   0.6200466   0.0161416\n",
      "   0.4475867   0.5334625   0.0040463\n",
      "   0.6924977   0.3488124   0.5880645\n",
      "   0.2760828   0.9347975   0.2747027\n",
      "\n",
      "V =\n",
      "\n",
      "   0.19784\n",
      "   0.66184\n",
      "   0.88124\n",
      "\n",
      "ans =\n",
      "\n",
      "   4   3\n",
      "\n",
      "ans =\n",
      "\n",
      "   3   1\n",
      "\n"
     ]
    }
   ],
   "source": [
    "A = rand(4,3)\n",
    "V = rand(3,1)\n",
    "size(A)\n",
    "size(V)"
   ]
  },
  {
   "cell_type": "code",
   "execution_count": 14,
   "metadata": {},
   "outputs": [],
   "source": [
    "function [C] = MW(A,V)\n",
    "\n",
    "sza = size(A);\n",
    "szv = size(V);\n",
    "\n",
    "if(sza(2)!=szv(1))\n",
    "disp('Nie odpowiednie rozmiary macierzy');\n",
    "endif\n",
    "\n",
    "C(1:sza(1), 1:szv(2))=0;\n",
    "for row=1:sza(1)\n",
    "    for col=1:sza(2)\n",
    "    C(row) += A(row, col) * V(col) ;\n",
    "    endfor\n",
    "endfor\n",
    "endfunction"
   ]
  },
  {
   "cell_type": "code",
   "execution_count": 15,
   "metadata": {},
   "outputs": [
    {
     "name": "stdout",
     "output_type": "stream",
     "text": [
      "ans =\n",
      "\n",
      "   0.46288\n",
      "   0.44518\n",
      "   0.88609\n",
      "   0.91538\n",
      "\n"
     ]
    }
   ],
   "source": [
    "MW(A, V)"
   ]
  },
  {
   "cell_type": "code",
   "execution_count": 16,
   "metadata": {},
   "outputs": [
    {
     "name": "stdout",
     "output_type": "stream",
     "text": [
      "ans =\n",
      "\n",
      "   0.46288\n",
      "   0.44518\n",
      "   0.88609\n",
      "   0.91538\n",
      "\n"
     ]
    }
   ],
   "source": [
    "A * V"
   ]
  },
  {
   "cell_type": "code",
   "execution_count": 17,
   "metadata": {},
   "outputs": [],
   "source": [
    "function [C] = MM1(A,B)\n",
    "\n",
    "sza = size(A);\n",
    "szb = size(B);\n",
    "\n",
    "if(sza(2)!=szb(1))\n",
    "disp('Nie odpowiednie rozmiary macierzy');\n",
    "endif\n",
    "\n",
    "C=[];\n",
    "for colB=1:szb(2)\n",
    "    C = [C MW(A, B(:, colB))];\n",
    "endfor\n",
    "endfunction"
   ]
  },
  {
   "cell_type": "code",
   "execution_count": 18,
   "metadata": {},
   "outputs": [
    {
     "name": "stdout",
     "output_type": "stream",
     "text": [
      "ans =\n",
      "\n",
      "   0.39149   0.27682   0.52163\n",
      "   0.37958   0.43893   0.52848\n",
      "   0.49010   0.71978   0.76505\n",
      "   0.66330   0.46752   0.90956\n",
      "\n"
     ]
    }
   ],
   "source": [
    "MM1(A,B)"
   ]
  },
  {
   "cell_type": "code",
   "execution_count": 19,
   "metadata": {},
   "outputs": [
    {
     "name": "stdout",
     "output_type": "stream",
     "text": [
      "ans =\n",
      "\n",
      "   0.39149   0.27682   0.52163\n",
      "   0.37958   0.43893   0.52848\n",
      "   0.49010   0.71978   0.76505\n",
      "   0.66330   0.46752   0.90956\n",
      "\n"
     ]
    }
   ],
   "source": [
    "A*B"
   ]
  },
  {
   "cell_type": "code",
   "execution_count": 44,
   "metadata": {},
   "outputs": [],
   "source": [
    "function [R] = WC(W,C)\n",
    "\n",
    "szw = size(W);\n",
    "szc = size(C);\n",
    "\n",
    "if(szw(2)!=szc(1))\n",
    "disp('Nie odpowiednie rozmiary macierzy');\n",
    "endif\n",
    "\n",
    "R=0;\n",
    "for row=1:szw(2)\n",
    "    R += W(1,row) * C(row,1);\n",
    "endfor\n",
    "endfunction"
   ]
  },
  {
   "cell_type": "code",
   "execution_count": 90,
   "metadata": {},
   "outputs": [
    {
     "name": "stdout",
     "output_type": "stream",
     "text": [
      "w =\n",
      "\n",
      "   0.41872   0.68695   0.76892\n",
      "\n",
      "c =\n",
      "\n",
      "   0.859785\n",
      "   0.039381\n",
      "   0.665198\n",
      "\n",
      "ans =  0.89855\n",
      "ans =  0.89855\n"
     ]
    }
   ],
   "source": [
    "w = rand(1, 3)\n",
    "c = rand(3, 1)\n",
    "WC(w,c)\n",
    "w*c"
   ]
  },
  {
   "cell_type": "code",
   "execution_count": 22,
   "metadata": {},
   "outputs": [],
   "source": [
    "function [C] = MM2(A,B)\n",
    "\n",
    "sza = size(A);\n",
    "szb = size(B);\n",
    "\n",
    "if(sza(2)!=szb(1))\n",
    "disp('Nie odpowiednie rozmiary macierzy');\n",
    "endif\n",
    "\n",
    "C=[];\n",
    "for rowA=1:sza(1)\n",
    "    for colB=1:szb(2)\n",
    "    C(rowA, colB) = WC(A(rowA,:), B(:,colB));\n",
    "    endfor\n",
    "endfor\n",
    "endfunction"
   ]
  },
  {
   "cell_type": "code",
   "execution_count": 23,
   "metadata": {},
   "outputs": [
    {
     "name": "stdout",
     "output_type": "stream",
     "text": [
      "ans =\n",
      "\n",
      "   0.39149   0.27682   0.52163\n",
      "   0.37958   0.43893   0.52848\n",
      "   0.49010   0.71978   0.76505\n",
      "   0.66330   0.46752   0.90956\n",
      "\n",
      "ans =\n",
      "\n",
      "   0.39149   0.27682   0.52163\n",
      "   0.37958   0.43893   0.52848\n",
      "   0.49010   0.71978   0.76505\n",
      "   0.66330   0.46752   0.90956\n",
      "\n"
     ]
    }
   ],
   "source": [
    "MM2(A,B)\n",
    "A*B"
   ]
  },
  {
   "cell_type": "code",
   "execution_count": 25,
   "metadata": {},
   "outputs": [],
   "source": [
    "function [C] = R1UPDATE(COL,ROW)\n",
    "\n",
    "szc = size(COL);\n",
    "szr = size(ROW);\n",
    "\n",
    "if(szc(1)!=szr(2))\n",
    "disp('Nie odpowiednie rozmiary macierzy');\n",
    "endif\n",
    "\n",
    "C(1:szc(1), 1:szr(2))=0;\n",
    "for row=1:szc(1)\n",
    "    for col=1:szr(2)\n",
    "    C(row,col)=COL(row)*ROW(col);\n",
    "    \n",
    "    endfor\n",
    "endfor\n",
    "endfunction"
   ]
  },
  {
   "cell_type": "code",
   "execution_count": 26,
   "metadata": {},
   "outputs": [],
   "source": [
    "function [C] = rank1(A,B)\n",
    "sza = size(A);\n",
    "szb = size(B);\n",
    "\n",
    "if(sza(1)!=szb(2))\n",
    "disp('Nie odpowiednie rozmiary macierzy');\n",
    "endif\n",
    "C(1:sza(1), 1:szb(2))=0;\n",
    "for colA=1:sza(2)\n",
    "    C=C+R1UPDATE(A(:,colA),B(colA,:));\n",
    "endfor\n",
    "endfunction"
   ]
  },
  {
   "cell_type": "code",
   "execution_count": 27,
   "metadata": {},
   "outputs": [
    {
     "name": "stdout",
     "output_type": "stream",
     "text": [
      "ans =\n",
      "\n",
      "   0.85565   0.51494   0.59839\n",
      "   0.57038   0.39491   0.56790\n",
      "   0.94005   0.47958   0.86586\n",
      "\n"
     ]
    }
   ],
   "source": [
    "rank1(A,B)"
   ]
  },
  {
   "cell_type": "code",
   "execution_count": 28,
   "metadata": {},
   "outputs": [
    {
     "name": "stdout",
     "output_type": "stream",
     "text": [
      "ans =\n",
      "\n",
      "   0.85565   0.51494   0.59839\n",
      "   0.57038   0.39491   0.56790\n",
      "   0.94005   0.47958   0.86586\n",
      "\n"
     ]
    }
   ],
   "source": [
    "A*B"
   ]
  },
  {
   "cell_type": "code",
   "execution_count": 82,
   "metadata": {},
   "outputs": [],
   "source": [
    "function [C] = MMblock(A,B)\n",
    "sza = size(A);\n",
    "szb = size(B);\n",
    "n=sza(1);\n",
    "nhalf = sza(1)/2;\n",
    "\n",
    "if(nhalf == 1.5)\n",
    "C(1,1)=WC(A(1,:),B(:,1));\n",
    "C(1,2:3)=MM1(A(1,:),B(:,2:3));\n",
    "C(2:3,1)=MW(A(2:3,:),B(:,1));\n",
    "C(2:3,2:3)=MM1(A(2:3,:),B(:,2:3));\n",
    "return\n",
    "endif\n",
    "\n",
    "\n",
    "\n",
    "if(sza(1)==2)\n",
    "C(1,1)=A(1,1)*B(1,1)+A(1,2)*B(2,1);\n",
    "C(1,2)=A(1,1)*B(1,2)+A(1,2)*B(2,2);\n",
    "C(2,1)=A(2,1)*B(1,1)+A(2,2)*B(2,1);\n",
    "C(2,2)=A(2,1)*B(1,2)+A(2,2)*B(2,2);\n",
    "return\n",
    "endif\n",
    "\n",
    "C(1:nhalf,1:nhalf)=...\n",
    "MMblock(A(1:nhalf,1:nhalf),B(1:nhalf,1:nhalf))+...\n",
    "MMblock(A(1:nhalf,nhalf+1:n),B(nhalf+1:n,1:nhalf));\n",
    "C(1:nhalf,nhalf+1:n)=...\n",
    "MMblock(A(1:nhalf,1:nhalf),B(1:nhalf,nhalf+1:n))+...\n",
    "MMblock(A(1:nhalf,nhalf+1:n),B(nhalf+1:n,nhalf+1:n));\n",
    "C(nhalf+1:n,1:nhalf)=...\n",
    "MMblock(A(nhalf+1:n,1:nhalf),B(1:nhalf,1:nhalf))+...\n",
    "MMblock(A(nhalf+1:n,nhalf+1:n),B(nhalf+1:n,1:nhalf));\n",
    "C(nhalf+1:n,nhalf+1:n)=...\n",
    "MMblock(A(nhalf+1:n,1:nhalf),B(1:nhalf,nhalf+1:n))+...\n",
    "MMblock(A(nhalf+1:n,nhalf+1:n),B(nhalf+1:n,nhalf+1:n));\n",
    "endfunction"
   ]
  },
  {
   "cell_type": "code",
   "execution_count": 83,
   "metadata": {},
   "outputs": [
    {
     "name": "stdout",
     "output_type": "stream",
     "text": [
      "ans =\n",
      "\n",
      "   1.11466   0.72088   0.92034\n",
      "   0.82515   0.66154   0.52656\n",
      "   0.91269   0.71862   0.73531\n",
      "\n"
     ]
    }
   ],
   "source": [
    "MMblock(A,B)"
   ]
  },
  {
   "cell_type": "code",
   "execution_count": 61,
   "metadata": {},
   "outputs": [
    {
     "name": "stdout",
     "output_type": "stream",
     "text": [
      "ans =\n",
      "\n",
      "   1.11466   0.72088   0.92034\n",
      "   0.82515   0.66154   0.52656\n",
      "   0.91269   0.71862   0.73531\n",
      "\n"
     ]
    }
   ],
   "source": [
    "A*B"
   ]
  },
  {
   "cell_type": "code",
   "execution_count": null,
   "metadata": {},
   "outputs": [],
   "source": []
  }
 ],
 "metadata": {
  "kernelspec": {
   "display_name": "Octave",
   "language": "octave",
   "name": "octave"
  },
  "language_info": {
   "file_extension": ".m",
   "help_links": [
    {
     "text": "GNU Octave",
     "url": "https://www.gnu.org/software/octave/support.html"
    },
    {
     "text": "Octave Kernel",
     "url": "https://github.com/Calysto/octave_kernel"
    },
    {
     "text": "MetaKernel Magics",
     "url": "https://metakernel.readthedocs.io/en/latest/source/README.html"
    }
   ],
   "mimetype": "text/x-octave",
   "name": "octave",
   "version": "5.2.0"
  }
 },
 "nbformat": 4,
 "nbformat_minor": 2
}
